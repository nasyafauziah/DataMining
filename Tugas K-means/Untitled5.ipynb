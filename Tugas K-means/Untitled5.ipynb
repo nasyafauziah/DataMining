{
  "nbformat": 4,
  "nbformat_minor": 0,
  "metadata": {
    "colab": {
      "provenance": []
    },
    "kernelspec": {
      "name": "python3",
      "display_name": "Python 3"
    },
    "language_info": {
      "name": "python"
    }
  },
  "cells": [
    {
      "cell_type": "code",
      "execution_count": 11,
      "metadata": {
        "id": "ieT3sYu25C7W"
      },
      "outputs": [],
      "source": [
        "#import library yang dibutuhkan\n",
        "import numpy as np\n",
        "from matplotlib import pyplot as plt\n",
        "from matplotlib.pyplot import cm\n",
        "import time\n",
        "import itertools"
      ]
    },
    {
      "cell_type": "code",
      "source": [
        "#baca dataset .txt\n",
        "datasetPath = \"dataku.txt\"\n",
        "dataset = np.loadtxt(datasetPath, delimiter=\" \")"
      ],
      "metadata": {
        "id": "cBEaRFhso1gY"
      },
      "execution_count": 12,
      "outputs": []
    },
    {
      "cell_type": "code",
      "source": [
        "#mendefinisikan parameter k-means klustering\n",
        "k = 2 #jumlah klaster yang diinginkan\n",
        "iterationCounter = 0 #counter untuk iterasi\n",
        "input = dataset\n",
        "\n",
        "#fungsi untuk inisialisi titik pusat klaster (random)\n",
        "def initCentroid(dataIn, k):\n",
        "    result = dataIn[np.random.choice(dataIn.shape[0], k, replace=False)]\n",
        "    return result"
      ],
      "metadata": {
        "id": "rej272fUpPih"
      },
      "execution_count": 13,
      "outputs": []
    },
    {
      "cell_type": "code",
      "source": [
        "#fungsi untuk plot hasil klaster per iterasi\n",
        "def plotClusterResult(listClusterMembers, centroid, iteration, converged):\n",
        "    n = listClusterMembers. _len_()\n",
        "    color = iter(cm.rainbow(np.linspace(0, 1, n)))\n",
        "    plt.figure(\"result\")\n",
        "    plt.clf()\n",
        "    plt.title(\"iteration-\" + iteration)\n",
        "    marker = itertools.cycle(('.', '*', '^', 'x', '+'))\n",
        "    for i in range(n):\n",
        "        col = next(color)\n",
        "        memberCluster = np.asmatrix (listClusterMembers[i])\n",
        "        plt.scatter(np.ravel (memberCluster [:, 0]), np.ravel (memberCluster [:, 1]), marker=marker._next_(), s=100, c=col, label=\"klaster-\"+str(i+1))\n",
        "    for i in range(n):\n",
        "        plt.scatter((centroid [i, 0]), (centroid[i, 1]), marker=marker._next_(), c=col, label=\"centroid-\" + str(i + 1))\n",
        "    if(converged == 0):\n",
        "      plt.legend()\n",
        "      plt.ion()\n",
        "      plt.show()\n",
        "      plt.pause(0.1)\n",
        "    if (converged == 1):\n",
        "      plt.legend()\n",
        "      plt.show(block=True)"
      ],
      "metadata": {
        "id": "VF1wG38Ap_jS"
      },
      "execution_count": 14,
      "outputs": []
    },
    {
      "cell_type": "code",
      "source": [
        "#fungsi utama algoritma k-means\n",
        "def kMeans (data, centroidInit):\n",
        "    nCluster = k #banyaknya klaster\n",
        "    global iterationCounter\n",
        "    centroidInit = np.matrix(centroidInit)\n",
        "    # looping hingga konvergen\n",
        "    while(True):\n",
        "        iterationCounter +=1\n",
        "        euclideanMatrixAllCluster = np.ndarray(shape=(data.shape[0], 0))\n",
        "        #ulangi proses untuk semua klaster\n",
        "        for i in range(0, nCluster):\n",
        "            centroidRepeated = np.repeat (centroidInit [i,:], data.shape[0], axis=0)\n",
        "            deltaMatrix = abs(np.subtract (data, centroidRepeated))\n",
        "            #hitung jarak Euclidean\n",
        "            euclideanMatrix = np.sqrt(np.square(deltaMatrix).sum(axis=1))\n",
        "            euclideanMatrixAllCluster = \\\n",
        "                np.concatenate ((euclideanMatrixAllCluster, euclideanMatrix), axis=1)\n",
        "        #tempatkan data ke klaster yang jarak Euclideannya plg dekat\n",
        "        clusterMatrix = np.ravel(np.argmin(np.matrix (euclideanMatrixAllCluster), axis-1))\n",
        "        listClusterMember = [[] for i in range(k)]\n",
        "        for i in range(0, data.shape[0]): #assign data to cluster regarding cluster matrix\n",
        "           listClusterMember[np.asscalar (clusterMatrix[i])].append(data[i,:])\n",
        "        #hitung titik pusat klaster terbaru\n",
        "        newCentroid = np.ndarray(shape=(0, centroidInit.shape[1]))\n",
        "        for i in range(0,nCluster):\n",
        "            memberCluster = np.asmatrix(listClusterMember[i])\n",
        "            centroidCluster = memberCluster.mean(axis=0)\n",
        "            newCentroid = np.concatenate((newCentroid, centroidCluster), axis=0)\n",
        "        print(\"iter:\", iterationCounter)\n",
        "        print(\"centroid: \", newCentroid)\n",
        "        #break dari loop jika sudah konvergen\n",
        "        if((centroidInit == newCentroid).all()):\n",
        "            break\n",
        "        # update titik pusat klaster dengan nilai yg baru\n",
        "        centroidInit = newCentroid\n",
        "        #plot hasil klaster per iterasi\n",
        "        plotClusterResult(listClusterMember, centroidInit, str(iterationCounter), 0)\n",
        "        time.sleep(1) #diberi jeda 1 detik agak hasil plot klaster nyaman dilihat\n",
        "    return listClusterMember, centroidInit"
      ],
      "metadata": {
        "id": "CiVs6nGTsNFF"
      },
      "execution_count": 15,
      "outputs": []
    },
    {
      "cell_type": "code",
      "source": [
        "#panggil fungsi inisialisasi klater\n",
        "centroidInit = initCentroid(input, k)\n",
        "#panggil fungsi k-means\n",
        "clusterResults, centroid = kMeans(input, centroidInit)\n",
        "#plot hasil final klaster setelah konvergenA\n",
        "plotClusterResult(clusterResults, centroid, str(iterationCounter) + \" (converged)\", 1)"
      ],
      "metadata": {
        "colab": {
          "base_uri": "https://localhost:8080/",
          "height": 401
        },
        "id": "WnHJPPWfuNwr",
        "outputId": "54ee4ef7-b716-4b6e-be82-29508ff11244"
      },
      "execution_count": 16,
      "outputs": [
        {
          "output_type": "error",
          "ename": "NameError",
          "evalue": "name 'axis' is not defined",
          "traceback": [
            "\u001b[0;31m---------------------------------------------------------------------------\u001b[0m",
            "\u001b[0;31mNameError\u001b[0m                                 Traceback (most recent call last)",
            "\u001b[0;32m<ipython-input-16-ca431cd214ae>\u001b[0m in \u001b[0;36m<cell line: 4>\u001b[0;34m()\u001b[0m\n\u001b[1;32m      2\u001b[0m \u001b[0mcentroidInit\u001b[0m \u001b[0;34m=\u001b[0m \u001b[0minitCentroid\u001b[0m\u001b[0;34m(\u001b[0m\u001b[0minput\u001b[0m\u001b[0;34m,\u001b[0m \u001b[0mk\u001b[0m\u001b[0;34m)\u001b[0m\u001b[0;34m\u001b[0m\u001b[0;34m\u001b[0m\u001b[0m\n\u001b[1;32m      3\u001b[0m \u001b[0;31m#panggil fungsi k-means\u001b[0m\u001b[0;34m\u001b[0m\u001b[0;34m\u001b[0m\u001b[0m\n\u001b[0;32m----> 4\u001b[0;31m \u001b[0mclusterResults\u001b[0m\u001b[0;34m,\u001b[0m \u001b[0mcentroid\u001b[0m \u001b[0;34m=\u001b[0m \u001b[0mkMeans\u001b[0m\u001b[0;34m(\u001b[0m\u001b[0minput\u001b[0m\u001b[0;34m,\u001b[0m \u001b[0mcentroidInit\u001b[0m\u001b[0;34m)\u001b[0m\u001b[0;34m\u001b[0m\u001b[0;34m\u001b[0m\u001b[0m\n\u001b[0m\u001b[1;32m      5\u001b[0m \u001b[0;31m#plot hasil final klaster setelah konvergen\u001b[0m\u001b[0;34m\u001b[0m\u001b[0;34m\u001b[0m\u001b[0m\n\u001b[1;32m      6\u001b[0m \u001b[0mplotClusterResult\u001b[0m\u001b[0;34m(\u001b[0m\u001b[0mclusterResults\u001b[0m\u001b[0;34m,\u001b[0m \u001b[0mcentroid\u001b[0m\u001b[0;34m,\u001b[0m \u001b[0mstr\u001b[0m\u001b[0;34m(\u001b[0m\u001b[0miterationCounter\u001b[0m\u001b[0;34m)\u001b[0m \u001b[0;34m+\u001b[0m \u001b[0;34m\" (converged)\"\u001b[0m\u001b[0;34m,\u001b[0m \u001b[0;36m1\u001b[0m\u001b[0;34m)\u001b[0m\u001b[0;34m\u001b[0m\u001b[0;34m\u001b[0m\u001b[0m\n",
            "\u001b[0;32m<ipython-input-15-0ada1a5a3751>\u001b[0m in \u001b[0;36mkMeans\u001b[0;34m(data, centroidInit)\u001b[0m\n\u001b[1;32m     17\u001b[0m                 \u001b[0mnp\u001b[0m\u001b[0;34m.\u001b[0m\u001b[0mconcatenate\u001b[0m \u001b[0;34m(\u001b[0m\u001b[0;34m(\u001b[0m\u001b[0meuclideanMatrixAllCluster\u001b[0m\u001b[0;34m,\u001b[0m \u001b[0meuclideanMatrix\u001b[0m\u001b[0;34m)\u001b[0m\u001b[0;34m,\u001b[0m \u001b[0maxis\u001b[0m\u001b[0;34m=\u001b[0m\u001b[0;36m1\u001b[0m\u001b[0;34m)\u001b[0m\u001b[0;34m\u001b[0m\u001b[0;34m\u001b[0m\u001b[0m\n\u001b[1;32m     18\u001b[0m         \u001b[0;31m#tempatkan data ke klaster yang jarak Euclideannya plg dekat\u001b[0m\u001b[0;34m\u001b[0m\u001b[0;34m\u001b[0m\u001b[0m\n\u001b[0;32m---> 19\u001b[0;31m         \u001b[0mclusterMatrix\u001b[0m \u001b[0;34m=\u001b[0m \u001b[0mnp\u001b[0m\u001b[0;34m.\u001b[0m\u001b[0mravel\u001b[0m\u001b[0;34m(\u001b[0m\u001b[0mnp\u001b[0m\u001b[0;34m.\u001b[0m\u001b[0margmin\u001b[0m\u001b[0;34m(\u001b[0m\u001b[0mnp\u001b[0m\u001b[0;34m.\u001b[0m\u001b[0mmatrix\u001b[0m \u001b[0;34m(\u001b[0m\u001b[0meuclideanMatrixAllCluster\u001b[0m\u001b[0;34m)\u001b[0m\u001b[0;34m,\u001b[0m \u001b[0maxis\u001b[0m\u001b[0;34m-\u001b[0m\u001b[0;36m1\u001b[0m\u001b[0;34m)\u001b[0m\u001b[0;34m)\u001b[0m\u001b[0;34m\u001b[0m\u001b[0;34m\u001b[0m\u001b[0m\n\u001b[0m\u001b[1;32m     20\u001b[0m         \u001b[0mlistClusterMember\u001b[0m \u001b[0;34m=\u001b[0m \u001b[0;34m[\u001b[0m\u001b[0;34m[\u001b[0m\u001b[0;34m]\u001b[0m \u001b[0;32mfor\u001b[0m \u001b[0mi\u001b[0m \u001b[0;32min\u001b[0m \u001b[0mrange\u001b[0m\u001b[0;34m(\u001b[0m\u001b[0mk\u001b[0m\u001b[0;34m)\u001b[0m\u001b[0;34m]\u001b[0m\u001b[0;34m\u001b[0m\u001b[0;34m\u001b[0m\u001b[0m\n\u001b[1;32m     21\u001b[0m         \u001b[0;32mfor\u001b[0m \u001b[0mi\u001b[0m \u001b[0;32min\u001b[0m \u001b[0mrange\u001b[0m\u001b[0;34m(\u001b[0m\u001b[0;36m0\u001b[0m\u001b[0;34m,\u001b[0m \u001b[0mdata\u001b[0m\u001b[0;34m.\u001b[0m\u001b[0mshape\u001b[0m\u001b[0;34m[\u001b[0m\u001b[0;36m0\u001b[0m\u001b[0;34m]\u001b[0m\u001b[0;34m)\u001b[0m\u001b[0;34m:\u001b[0m \u001b[0;31m#assign data to cluster regarding cluster matrix\u001b[0m\u001b[0;34m\u001b[0m\u001b[0;34m\u001b[0m\u001b[0m\n",
            "\u001b[0;31mNameError\u001b[0m: name 'axis' is not defined"
          ]
        }
      ]
    },
    {
      "cell_type": "code",
      "source": [],
      "metadata": {
        "id": "yGB2EUxeuu_J"
      },
      "execution_count": null,
      "outputs": []
    }
  ]
}