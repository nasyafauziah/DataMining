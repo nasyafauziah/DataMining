{
 "cells": [
  {
   "cell_type": "code",
   "execution_count": 1,
   "id": "a5965788-66e4-4838-8159-cf4af309828c",
   "metadata": {},
   "outputs": [],
   "source": [
    "import pandas as pd\n",
    "from sklearn.preprocessing import LabelEncoder, StandardScaler\n",
    "from sklearn.model_selection import train_test_split"
   ]
  },
  {
   "cell_type": "code",
   "execution_count": 4,
   "id": "2a27c870-0b8a-4b0c-bd91-650711c96f4e",
   "metadata": {},
   "outputs": [
    {
     "data": {
      "text/html": [
       "<div>\n",
       "<style scoped>\n",
       "    .dataframe tbody tr th:only-of-type {\n",
       "        vertical-align: middle;\n",
       "    }\n",
       "\n",
       "    .dataframe tbody tr th {\n",
       "        vertical-align: top;\n",
       "    }\n",
       "\n",
       "    .dataframe thead th {\n",
       "        text-align: right;\n",
       "    }\n",
       "</style>\n",
       "<table border=\"1\" class=\"dataframe\">\n",
       "  <thead>\n",
       "    <tr style=\"text-align: right;\">\n",
       "      <th></th>\n",
       "      <th>title</th>\n",
       "      <th>author</th>\n",
       "      <th>publish_date</th>\n",
       "      <th>article_text</th>\n",
       "      <th>url</th>\n",
       "      <th>main_image</th>\n",
       "      <th>tag</th>\n",
       "    </tr>\n",
       "  </thead>\n",
       "  <tbody>\n",
       "    <tr>\n",
       "      <th>0</th>\n",
       "      <td>Hasto Ingin Debat Pilpres Pertarungan Gagasan ...</td>\n",
       "      <td>detikNews</td>\n",
       "      <td>2023-12-10 23:31:00+07:00</td>\n",
       "      <td>Sekjen PDIP sekaligus Sekretaris Tim Pemenang ...</td>\n",
       "      <td>https://news.detik.com/pemilu/d-7082492/hasto-...</td>\n",
       "      <td>https://awsimages.detik.net.id/community/media...</td>\n",
       "      <td>['hasto kristiyanto', 'hasto', 'sekjen pdip', ...</td>\n",
       "    </tr>\n",
       "    <tr>\n",
       "      <th>1</th>\n",
       "      <td>Terima Kunjungan Gibran di Ponpes Al-Tsaqafah,...</td>\n",
       "      <td>detikNews</td>\n",
       "      <td>2023-12-10 23:09:00+07:00</td>\n",
       "      <td>Mantan Ketua Umum Pengurus Besar Nahdlatul Ula...</td>\n",
       "      <td>https://news.detik.com/pemilu/d-7082483/terima...</td>\n",
       "      <td>NaN</td>\n",
       "      <td>['said aqil siradj', 'gibran rakabuming', 'pem...</td>\n",
       "    </tr>\n",
       "    <tr>\n",
       "      <th>2</th>\n",
       "      <td>Contoh Format dan Isi Surat Pernyataan Anggota...</td>\n",
       "      <td>detikNews</td>\n",
       "      <td>2023-12-10 22:38:00+07:00</td>\n",
       "      <td>Surat pernyataan KPPS Pemilu 2024 merupakan ba...</td>\n",
       "      <td>https://news.detik.com/pemilu/d-7082424/contoh...</td>\n",
       "      <td>https://awsimages.detik.net.id/community/media...</td>\n",
       "      <td>['surat pernyataan kpps pemilu 2024', 'pendaft...</td>\n",
       "    </tr>\n",
       "    <tr>\n",
       "      <th>3</th>\n",
       "      <td>9 Ribu Personel Gabungan Dikerahkan Amankan Na...</td>\n",
       "      <td>detikSumut</td>\n",
       "      <td>2023-12-10 22:23:00+07:00</td>\n",
       "      <td>Sekitar 9.000 personel dikerahkan untuk mengam...</td>\n",
       "      <td>https://www.detik.com/sumut/berita/d-7082448/9...</td>\n",
       "      <td>https://awsimages.detik.net.id/community/media...</td>\n",
       "      <td>['natal', 'tahun baru', 'nataru', 'pengamanan ...</td>\n",
       "    </tr>\n",
       "    <tr>\n",
       "      <th>4</th>\n",
       "      <td>Amarah Ukraina Usai Rusia Bakal Gelar Pilpres ...</td>\n",
       "      <td>detikNews</td>\n",
       "      <td>2023-12-10 22:12:00+07:00</td>\n",
       "      <td>Ukraina marah usai Rusia menjadikan empat wila...</td>\n",
       "      <td>https://news.detik.com/internasional/d-7082454...</td>\n",
       "      <td>https://awsimages.detik.net.id/community/media...</td>\n",
       "      <td>['ukraina', 'rusia', 'pemilu rusia', 'round-up']</td>\n",
       "    </tr>\n",
       "  </tbody>\n",
       "</table>\n",
       "</div>"
      ],
      "text/plain": [
       "                                               title      author  \\\n",
       "0  Hasto Ingin Debat Pilpres Pertarungan Gagasan ...   detikNews   \n",
       "1  Terima Kunjungan Gibran di Ponpes Al-Tsaqafah,...   detikNews   \n",
       "2  Contoh Format dan Isi Surat Pernyataan Anggota...   detikNews   \n",
       "3  9 Ribu Personel Gabungan Dikerahkan Amankan Na...  detikSumut   \n",
       "4  Amarah Ukraina Usai Rusia Bakal Gelar Pilpres ...   detikNews   \n",
       "\n",
       "                publish_date  \\\n",
       "0  2023-12-10 23:31:00+07:00   \n",
       "1  2023-12-10 23:09:00+07:00   \n",
       "2  2023-12-10 22:38:00+07:00   \n",
       "3  2023-12-10 22:23:00+07:00   \n",
       "4  2023-12-10 22:12:00+07:00   \n",
       "\n",
       "                                        article_text  \\\n",
       "0  Sekjen PDIP sekaligus Sekretaris Tim Pemenang ...   \n",
       "1  Mantan Ketua Umum Pengurus Besar Nahdlatul Ula...   \n",
       "2  Surat pernyataan KPPS Pemilu 2024 merupakan ba...   \n",
       "3  Sekitar 9.000 personel dikerahkan untuk mengam...   \n",
       "4  Ukraina marah usai Rusia menjadikan empat wila...   \n",
       "\n",
       "                                                 url  \\\n",
       "0  https://news.detik.com/pemilu/d-7082492/hasto-...   \n",
       "1  https://news.detik.com/pemilu/d-7082483/terima...   \n",
       "2  https://news.detik.com/pemilu/d-7082424/contoh...   \n",
       "3  https://www.detik.com/sumut/berita/d-7082448/9...   \n",
       "4  https://news.detik.com/internasional/d-7082454...   \n",
       "\n",
       "                                          main_image  \\\n",
       "0  https://awsimages.detik.net.id/community/media...   \n",
       "1                                                NaN   \n",
       "2  https://awsimages.detik.net.id/community/media...   \n",
       "3  https://awsimages.detik.net.id/community/media...   \n",
       "4  https://awsimages.detik.net.id/community/media...   \n",
       "\n",
       "                                                 tag  \n",
       "0  ['hasto kristiyanto', 'hasto', 'sekjen pdip', ...  \n",
       "1  ['said aqil siradj', 'gibran rakabuming', 'pem...  \n",
       "2  ['surat pernyataan kpps pemilu 2024', 'pendaft...  \n",
       "3  ['natal', 'tahun baru', 'nataru', 'pengamanan ...  \n",
       "4   ['ukraina', 'rusia', 'pemilu rusia', 'round-up']  "
      ]
     },
     "execution_count": 4,
     "metadata": {},
     "output_type": "execute_result"
    }
   ],
   "source": [
    "dataset = pd.read_csv('news_data.csv')\n",
    "dataset.head()"
   ]
  },
  {
   "cell_type": "code",
   "execution_count": 5,
   "id": "d9052567-879a-44cb-9794-38bc8b390f3e",
   "metadata": {},
   "outputs": [
    {
     "data": {
      "text/plain": [
       "title              2\n",
       "author             1\n",
       "publish_date       0\n",
       "article_text       1\n",
       "url                0\n",
       "main_image      1876\n",
       "tag                0\n",
       "dtype: int64"
      ]
     },
     "execution_count": 5,
     "metadata": {},
     "output_type": "execute_result"
    }
   ],
   "source": [
    "#cek missing values\n",
    "missing_values = dataset.isnull().sum()\n",
    "missing_values"
   ]
  },
  {
   "cell_type": "code",
   "execution_count": 7,
   "id": "f768b748-3cac-4096-8813-dd2ff4a7e593",
   "metadata": {},
   "outputs": [
    {
     "data": {
      "text/html": [
       "<div>\n",
       "<style scoped>\n",
       "    .dataframe tbody tr th:only-of-type {\n",
       "        vertical-align: middle;\n",
       "    }\n",
       "\n",
       "    .dataframe tbody tr th {\n",
       "        vertical-align: top;\n",
       "    }\n",
       "\n",
       "    .dataframe thead th {\n",
       "        text-align: right;\n",
       "    }\n",
       "</style>\n",
       "<table border=\"1\" class=\"dataframe\">\n",
       "  <thead>\n",
       "    <tr style=\"text-align: right;\">\n",
       "      <th></th>\n",
       "      <th>title</th>\n",
       "      <th>author</th>\n",
       "      <th>publish_date</th>\n",
       "      <th>article_text</th>\n",
       "      <th>url</th>\n",
       "      <th>tag</th>\n",
       "    </tr>\n",
       "  </thead>\n",
       "  <tbody>\n",
       "    <tr>\n",
       "      <th>0</th>\n",
       "      <td>Hasto Ingin Debat Pilpres Pertarungan Gagasan ...</td>\n",
       "      <td>detikNews</td>\n",
       "      <td>2023-12-10 23:31:00+07:00</td>\n",
       "      <td>Sekjen PDIP sekaligus Sekretaris Tim Pemenang ...</td>\n",
       "      <td>https://news.detik.com/pemilu/d-7082492/hasto-...</td>\n",
       "      <td>['hasto kristiyanto', 'hasto', 'sekjen pdip', ...</td>\n",
       "    </tr>\n",
       "    <tr>\n",
       "      <th>1</th>\n",
       "      <td>Terima Kunjungan Gibran di Ponpes Al-Tsaqafah,...</td>\n",
       "      <td>detikNews</td>\n",
       "      <td>2023-12-10 23:09:00+07:00</td>\n",
       "      <td>Mantan Ketua Umum Pengurus Besar Nahdlatul Ula...</td>\n",
       "      <td>https://news.detik.com/pemilu/d-7082483/terima...</td>\n",
       "      <td>['said aqil siradj', 'gibran rakabuming', 'pem...</td>\n",
       "    </tr>\n",
       "    <tr>\n",
       "      <th>2</th>\n",
       "      <td>Contoh Format dan Isi Surat Pernyataan Anggota...</td>\n",
       "      <td>detikNews</td>\n",
       "      <td>2023-12-10 22:38:00+07:00</td>\n",
       "      <td>Surat pernyataan KPPS Pemilu 2024 merupakan ba...</td>\n",
       "      <td>https://news.detik.com/pemilu/d-7082424/contoh...</td>\n",
       "      <td>['surat pernyataan kpps pemilu 2024', 'pendaft...</td>\n",
       "    </tr>\n",
       "    <tr>\n",
       "      <th>3</th>\n",
       "      <td>9 Ribu Personel Gabungan Dikerahkan Amankan Na...</td>\n",
       "      <td>detikSumut</td>\n",
       "      <td>2023-12-10 22:23:00+07:00</td>\n",
       "      <td>Sekitar 9.000 personel dikerahkan untuk mengam...</td>\n",
       "      <td>https://www.detik.com/sumut/berita/d-7082448/9...</td>\n",
       "      <td>['natal', 'tahun baru', 'nataru', 'pengamanan ...</td>\n",
       "    </tr>\n",
       "    <tr>\n",
       "      <th>4</th>\n",
       "      <td>Amarah Ukraina Usai Rusia Bakal Gelar Pilpres ...</td>\n",
       "      <td>detikNews</td>\n",
       "      <td>2023-12-10 22:12:00+07:00</td>\n",
       "      <td>Ukraina marah usai Rusia menjadikan empat wila...</td>\n",
       "      <td>https://news.detik.com/internasional/d-7082454...</td>\n",
       "      <td>['ukraina', 'rusia', 'pemilu rusia', 'round-up']</td>\n",
       "    </tr>\n",
       "  </tbody>\n",
       "</table>\n",
       "</div>"
      ],
      "text/plain": [
       "                                               title      author  \\\n",
       "0  Hasto Ingin Debat Pilpres Pertarungan Gagasan ...   detikNews   \n",
       "1  Terima Kunjungan Gibran di Ponpes Al-Tsaqafah,...   detikNews   \n",
       "2  Contoh Format dan Isi Surat Pernyataan Anggota...   detikNews   \n",
       "3  9 Ribu Personel Gabungan Dikerahkan Amankan Na...  detikSumut   \n",
       "4  Amarah Ukraina Usai Rusia Bakal Gelar Pilpres ...   detikNews   \n",
       "\n",
       "                publish_date  \\\n",
       "0  2023-12-10 23:31:00+07:00   \n",
       "1  2023-12-10 23:09:00+07:00   \n",
       "2  2023-12-10 22:38:00+07:00   \n",
       "3  2023-12-10 22:23:00+07:00   \n",
       "4  2023-12-10 22:12:00+07:00   \n",
       "\n",
       "                                        article_text  \\\n",
       "0  Sekjen PDIP sekaligus Sekretaris Tim Pemenang ...   \n",
       "1  Mantan Ketua Umum Pengurus Besar Nahdlatul Ula...   \n",
       "2  Surat pernyataan KPPS Pemilu 2024 merupakan ba...   \n",
       "3  Sekitar 9.000 personel dikerahkan untuk mengam...   \n",
       "4  Ukraina marah usai Rusia menjadikan empat wila...   \n",
       "\n",
       "                                                 url  \\\n",
       "0  https://news.detik.com/pemilu/d-7082492/hasto-...   \n",
       "1  https://news.detik.com/pemilu/d-7082483/terima...   \n",
       "2  https://news.detik.com/pemilu/d-7082424/contoh...   \n",
       "3  https://www.detik.com/sumut/berita/d-7082448/9...   \n",
       "4  https://news.detik.com/internasional/d-7082454...   \n",
       "\n",
       "                                                 tag  \n",
       "0  ['hasto kristiyanto', 'hasto', 'sekjen pdip', ...  \n",
       "1  ['said aqil siradj', 'gibran rakabuming', 'pem...  \n",
       "2  ['surat pernyataan kpps pemilu 2024', 'pendaft...  \n",
       "3  ['natal', 'tahun baru', 'nataru', 'pengamanan ...  \n",
       "4   ['ukraina', 'rusia', 'pemilu rusia', 'round-up']  "
      ]
     },
     "execution_count": 7,
     "metadata": {},
     "output_type": "execute_result"
    }
   ],
   "source": [
    "#handle missing value\n",
    "dataset['title'].fillna('Unknown', inplace=True)\n",
    "dataset['author'].fillna('Unknown', inplace=True)\n",
    "dataset['article_text'].fillna('No content available', inplace=True)\n",
    "\n",
    "#menghapus kolom 'main_image' terlalu banyak missing value\n",
    "dataset_cleaned = dataset.drop(columns=['main_image'])\n",
    "\n",
    "dataset_cleaned.head()"
   ]
  },
  {
   "cell_type": "code",
   "execution_count": 8,
   "id": "93dfb365-3f66-4145-bab5-56ea313809fa",
   "metadata": {},
   "outputs": [],
   "source": [
    "#encoding 'author'\n",
    "label_encoder = LabelEncoder()\n",
    "dataset_cleaned['author_encoded'] = label_encoder.fit_transform(dataset_cleaned['author'])\n",
    "\n",
    "#encoding 'tag'\n",
    "dataset_cleaned['tag_encoded'] = label_encoder.fit_transform(dataset_cleaned['tag'].apply(lambda x: str(x)))\n"
   ]
  },
  {
   "cell_type": "code",
   "execution_count": 10,
   "id": "0e4958a7-6a10-4bc9-a3cf-902de372034e",
   "metadata": {},
   "outputs": [
    {
     "data": {
      "text/html": [
       "<div>\n",
       "<style scoped>\n",
       "    .dataframe tbody tr th:only-of-type {\n",
       "        vertical-align: middle;\n",
       "    }\n",
       "\n",
       "    .dataframe tbody tr th {\n",
       "        vertical-align: top;\n",
       "    }\n",
       "\n",
       "    .dataframe thead th {\n",
       "        text-align: right;\n",
       "    }\n",
       "</style>\n",
       "<table border=\"1\" class=\"dataframe\">\n",
       "  <thead>\n",
       "    <tr style=\"text-align: right;\">\n",
       "      <th></th>\n",
       "      <th>author</th>\n",
       "      <th>author_encoded</th>\n",
       "      <th>tag</th>\n",
       "      <th>tag_encoded</th>\n",
       "    </tr>\n",
       "  </thead>\n",
       "  <tbody>\n",
       "    <tr>\n",
       "      <th>0</th>\n",
       "      <td>detikNews</td>\n",
       "      <td>27</td>\n",
       "      <td>['hasto kristiyanto', 'hasto', 'sekjen pdip', ...</td>\n",
       "      <td>7292</td>\n",
       "    </tr>\n",
       "    <tr>\n",
       "      <th>1</th>\n",
       "      <td>detikNews</td>\n",
       "      <td>27</td>\n",
       "      <td>['said aqil siradj', 'gibran rakabuming', 'pem...</td>\n",
       "      <td>17190</td>\n",
       "    </tr>\n",
       "    <tr>\n",
       "      <th>2</th>\n",
       "      <td>detikNews</td>\n",
       "      <td>27</td>\n",
       "      <td>['surat pernyataan kpps pemilu 2024', 'pendaft...</td>\n",
       "      <td>17818</td>\n",
       "    </tr>\n",
       "    <tr>\n",
       "      <th>3</th>\n",
       "      <td>detikSumut</td>\n",
       "      <td>32</td>\n",
       "      <td>['natal', 'tahun baru', 'nataru', 'pengamanan ...</td>\n",
       "      <td>10876</td>\n",
       "    </tr>\n",
       "    <tr>\n",
       "      <th>4</th>\n",
       "      <td>detikNews</td>\n",
       "      <td>27</td>\n",
       "      <td>['ukraina', 'rusia', 'pemilu rusia', 'round-up']</td>\n",
       "      <td>18383</td>\n",
       "    </tr>\n",
       "  </tbody>\n",
       "</table>\n",
       "</div>"
      ],
      "text/plain": [
       "       author  author_encoded  \\\n",
       "0   detikNews              27   \n",
       "1   detikNews              27   \n",
       "2   detikNews              27   \n",
       "3  detikSumut              32   \n",
       "4   detikNews              27   \n",
       "\n",
       "                                                 tag  tag_encoded  \n",
       "0  ['hasto kristiyanto', 'hasto', 'sekjen pdip', ...         7292  \n",
       "1  ['said aqil siradj', 'gibran rakabuming', 'pem...        17190  \n",
       "2  ['surat pernyataan kpps pemilu 2024', 'pendaft...        17818  \n",
       "3  ['natal', 'tahun baru', 'nataru', 'pengamanan ...        10876  \n",
       "4   ['ukraina', 'rusia', 'pemilu rusia', 'round-up']        18383  "
      ]
     },
     "execution_count": 10,
     "metadata": {},
     "output_type": "execute_result"
    }
   ],
   "source": [
    "dataset_cleaned[['author', 'author_encoded', 'tag', 'tag_encoded']].head()"
   ]
  },
  {
   "cell_type": "code",
   "execution_count": 18,
   "id": "7a13fd84-f928-475e-be44-22ec8220b890",
   "metadata": {},
   "outputs": [],
   "source": [
    "X = dataset_cleaned.drop(columns=['title', 'article_text', 'url', 'author', 'publish_date', 'tag'])\n",
    "y = dataset_cleaned['article_text'] "
   ]
  },
  {
   "cell_type": "code",
   "execution_count": 19,
   "id": "4f907338-90ae-4a0e-ab3b-83c544a6e9c3",
   "metadata": {},
   "outputs": [],
   "source": [
    "X_train, X_test, y_train, y_test = train_test_split(X, y, test_size=0.2, random_state=42)"
   ]
  },
  {
   "cell_type": "code",
   "execution_count": 22,
   "id": "dfba0c7c-dfd8-4fab-b2a2-905506afe723",
   "metadata": {},
   "outputs": [
    {
     "name": "stdout",
     "output_type": "stream",
     "text": [
      "\n",
      "First few rows of X_train:\n",
      "       author_encoded  tag_encoded\n",
      "18414              27         3131\n",
      "17409              27         4171\n",
      "9999               23        17773\n",
      "4653               27        10377\n",
      "16573              27         5078\n"
     ]
    }
   ],
   "source": [
    "print(\"\\nFirst few rows of X_train:\")\n",
    "print(X_train.head())"
   ]
  },
  {
   "cell_type": "code",
   "execution_count": 23,
   "id": "135aa71c-34e8-4ef2-ba72-9f6072bc2090",
   "metadata": {},
   "outputs": [
    {
     "name": "stdout",
     "output_type": "stream",
     "text": [
      "\n",
      "First few rows of X_test:\n",
      "       author_encoded  tag_encoded\n",
      "3739               27         1424\n",
      "13017              27        15059\n",
      "2232                2           45\n",
      "5736               27         6726\n",
      "8500               24         2859\n"
     ]
    }
   ],
   "source": [
    "print(\"\\nFirst few rows of X_test:\")\n",
    "print(X_test.head())\n"
   ]
  },
  {
   "cell_type": "code",
   "execution_count": 28,
   "id": "f0ac5d7d-a4d4-47e1-867b-0d9622aeb697",
   "metadata": {},
   "outputs": [
    {
     "name": "stdout",
     "output_type": "stream",
     "text": [
      "\n",
      "First few rows of y_train:\n",
      "18414    Politisi PDIP Budiman Sudjatmiko merespons per...\n",
      "17409    Anggota Majelis Tinggi Partai Demokrat Syarief...\n",
      "9999     Anggota DPRD Subang aktif, S, buka suara terka...\n",
      "4653     Majelis Kehormatan Mahkamah Konstitusi (MKMK) ...\n",
      "16573    Bakal calon presiden (bacapres) PDIP Ganjar Pr...\n",
      "Name: article_text, dtype: object\n"
     ]
    }
   ],
   "source": [
    "print(\"\\nFirst few rows of y_train:\")\n",
    "print(y_train.head())"
   ]
  },
  {
   "cell_type": "code",
   "execution_count": 29,
   "id": "73403851-ada9-4502-bd95-681cfb589350",
   "metadata": {},
   "outputs": [
    {
     "name": "stdout",
     "output_type": "stream",
     "text": [
      "\n",
      "First few rows of y_test:\n",
      "3739     Pasangan capres-cawapres nomor 1, Anies Baswed...\n",
      "13017    Juru Bicara Sandiaga Uno, Denny H. Suryo menya...\n",
      "2232     Butuh waktu lama bagi Gibran Rakabuming Raka u...\n",
      "5736     Ketua DPP PDIP Ahmad Basarah menyebut Gibran R...\n",
      "8500     Wali Kota Solo Gibran Rakabuming Raka mengungk...\n",
      "Name: article_text, dtype: object\n"
     ]
    }
   ],
   "source": [
    "print(\"\\nFirst few rows of y_test:\")\n",
    "print(y_test.head())"
   ]
  },
  {
   "cell_type": "code",
   "execution_count": 24,
   "id": "00ce63eb-faa8-4bae-a858-fc1c1a372452",
   "metadata": {},
   "outputs": [],
   "source": [
    "scaler = StandardScaler()\n",
    "X_train_scaled = scaler.fit_transform(X_train)\n",
    "X_test_scaled = scaler.transform(X_test)"
   ]
  },
  {
   "cell_type": "code",
   "execution_count": 25,
   "id": "3a5138f3-bc69-4693-b0cb-6320bd8023c4",
   "metadata": {},
   "outputs": [
    {
     "name": "stdout",
     "output_type": "stream",
     "text": [
      "\n",
      "Scaled X_train:\n",
      "          0         1\n",
      "0  0.193970 -1.160799\n",
      "1  0.193970 -0.970694\n",
      "2 -1.148865  1.515664\n",
      "3  0.193970  0.163723\n",
      "4  0.193970 -0.804900\n",
      "\n",
      "Scaled X_test_final:\n",
      "          0         1\n",
      "0  0.193970 -1.472828\n",
      "1  0.193970  1.019562\n",
      "2 -8.198744 -1.724900\n",
      "3  0.193970 -0.503657\n",
      "4 -0.813156 -1.210519\n"
     ]
    }
   ],
   "source": [
    "print(\"\\nScaled X_train:\")\n",
    "print(pd.DataFrame(X_train_scaled).head())\n",
    "\n",
    "print(\"\\nScaled X_test_final:\")\n",
    "print(pd.DataFrame(X_test_scaled).head())"
   ]
  },
  {
   "cell_type": "code",
   "execution_count": 33,
   "id": "155732c1-f44f-40f8-ab32-5e32a7ea6964",
   "metadata": {},
   "outputs": [],
   "source": [
    "# Hasil dari preprocessing:\n",
    "\n",
    "# 1. Missing values telah diisi atau dihapus.\n",
    "#    Kolom title, author, dan article_text diisi dengan nilai default.\n",
    "#    Kolom main_image dihapus karena terlalu banyak missing values.\n",
    "\n",
    "# 2. Kolom author dan tag telah diencoding menggunakan LabelEncoder.\n",
    "\n",
    "# 3. Dataset telah dipisahkan menjadi fitur (X) dan label (y) dengan benar.\n",
    "#    Fitur yang tidak relevan seperti title, url, author, dan publish_date telah dihapus.\n",
    "\n",
    "# 4. Dataset dibagi menjadi training set dan test set dengan proporsi 80% training dan 20% testing.\n",
    "\n",
    "# 5. Feature Scaling: Semua fitur telah diskalakan menggunakan StandardScaler agar berada dalam rentang yang seragam.\n",
    "#    Ini memastikan bahwa perbedaan skala antar fitur tidak mempengaruhi performa model.\n",
    "\n"
   ]
  }
 ],
 "metadata": {
  "kernelspec": {
   "display_name": "Python 3 (ipykernel)",
   "language": "python",
   "name": "python3"
  },
  "language_info": {
   "codemirror_mode": {
    "name": "ipython",
    "version": 3
   },
   "file_extension": ".py",
   "mimetype": "text/x-python",
   "name": "python",
   "nbconvert_exporter": "python",
   "pygments_lexer": "ipython3",
   "version": "3.11.7"
  }
 },
 "nbformat": 4,
 "nbformat_minor": 5
}
