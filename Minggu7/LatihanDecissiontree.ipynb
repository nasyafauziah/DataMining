{
 "cells": [
  {
   "cell_type": "code",
   "execution_count": 1,
   "id": "b46595cf-0e0e-4259-96cc-bb5c0a502585",
   "metadata": {},
   "outputs": [],
   "source": [
    "#Nama : Nasya Fauziah\n",
    "#NIM : A11.2022.14361"
   ]
  },
  {
   "cell_type": "code",
   "execution_count": 5,
   "id": "6c61a5c0-9b89-480b-9eb5-8d841f5003cd",
   "metadata": {},
   "outputs": [],
   "source": [
    "# Import library \n",
    "import numpy as np\n",
    "import pandas as pd\n",
    "from sklearn.tree import DecisionTreeClassifier\n",
    "\n",
    "# Membaca dataset dari file ke dalam DataFrame pandas\n",
    "irisDataset = pd.read_csv('Dataset Iris.csv', delimiter=';', header=0)\n",
    "\n",
    "# Mengubah kolom 'Species' dari string ke nilai integer unik\n",
    "irisDataset[\"Species\"] = pd.factorize(irisDataset.Species)[0]\n",
    "\n",
    "# Menghapus kolom 'Id'\n",
    "irisDataset = irisDataset.drop(labels=\"Id\", axis=1)\n",
    "\n",
    "# Mengonversi DataFrame ke array numpy\n",
    "#irisDataset = irisDataset.as_matrix()\n",
    "irisDataset = irisDataset.to_numpy()"
   ]
  },
  {
   "cell_type": "code",
   "execution_count": 7,
   "id": "adef3206-b353-4c6d-9e82-5c5abdd8c9a1",
   "metadata": {},
   "outputs": [],
   "source": [
    "# Membagi dataset: 40 baris untuk data training dan 20 baris untuk data testing\n",
    "dataTraining = np.concatenate((irisDataset[0:40, :], irisDataset[50:90, :]), axis=0)\n",
    "dataTesting = np.concatenate((irisDataset[40:50, :], irisDataset[90:100, :]), axis=0)\n",
    "\n",
    "# Memisahkan input dan label untuk data training dan testing\n",
    "inputTraining = dataTraining[:, 0:4]\n",
    "inputTesting = dataTesting[:, 0:4]\n",
    "labelTraining = dataTraining[:, 4]\n",
    "labelTesting = dataTesting[:, 4]"
   ]
  },
  {
   "cell_type": "code",
   "execution_count": 9,
   "id": "437d08ca-81fa-4218-9b58-6b2799d54951",
   "metadata": {},
   "outputs": [
    {
     "name": "stdout",
     "output_type": "stream",
     "text": [
      "Label sebenarnya: [0. 0. 0. 0. 0. 0. 0. 0. 0. 0. 1. 1. 1. 1. 1. 1. 1. 1. 1. 1.]\n",
      "Hasil prediksi: [0. 0. 0. 0. 0. 0. 0. 0. 0. 0. 1. 1. 1. 1. 1. 1. 1. 1. 1. 1.]\n",
      "Prediksi benar: 20 data\n",
      "Prediksi salah: 0 data\n",
      "Akurasi: 100.0 %\n"
     ]
    }
   ],
   "source": [
    "# Mendefinisikan model Decision Tree Classifier\n",
    "model = DecisionTreeClassifier()\n",
    "\n",
    "# Melatih model\n",
    "model.fit(inputTraining, labelTraining)\n",
    "\n",
    "# Memprediksi data testing\n",
    "hasilPrediksi = model.predict(inputTesting)\n",
    "\n",
    "# Menampilkan label sebenarnya dan hasil prediksi\n",
    "print(\"Label sebenarnya:\", labelTesting)\n",
    "print(\"Hasil prediksi:\", hasilPrediksi)\n",
    "\n",
    "# Menghitung akurasi\n",
    "prediksiBenar = (hasilPrediksi == labelTesting).sum()\n",
    "prediksiSalah = (hasilPrediksi != labelTesting).sum()\n",
    "\n",
    "print(\"Prediksi benar:\", prediksiBenar, \"data\")\n",
    "print(\"Prediksi salah:\", prediksiSalah, \"data\")\n",
    "print(\"Akurasi:\", (prediksiBenar / (prediksiBenar + prediksiSalah)) * 100, \"%\")"
   ]
  },
  {
   "cell_type": "code",
   "execution_count": null,
   "id": "e1004287-a411-4e7f-9bbf-cd1ca8db86eb",
   "metadata": {},
   "outputs": [],
   "source": []
  }
 ],
 "metadata": {
  "kernelspec": {
   "display_name": "Python 3 (ipykernel)",
   "language": "python",
   "name": "python3"
  },
  "language_info": {
   "codemirror_mode": {
    "name": "ipython",
    "version": 3
   },
   "file_extension": ".py",
   "mimetype": "text/x-python",
   "name": "python",
   "nbconvert_exporter": "python",
   "pygments_lexer": "ipython3",
   "version": "3.12.4"
  }
 },
 "nbformat": 4,
 "nbformat_minor": 5
}
