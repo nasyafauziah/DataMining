{
 "cells": [
  {
   "cell_type": "code",
   "execution_count": 3,
   "id": "2d51f419-7ae7-4b70-9925-603cc25fd265",
   "metadata": {},
   "outputs": [],
   "source": [
    "#Nama : Nasya Fauziah \n",
    "#NIM : A11.2022.14361"
   ]
  },
  {
   "cell_type": "code",
   "execution_count": 11,
   "id": "20be7f08-5be2-46c2-8dee-59fff1162a2e",
   "metadata": {},
   "outputs": [],
   "source": [
    "# Import libraries\n",
    "import numpy as np\n",
    "import pandas as pd\n",
    "from sklearn import tree\n",
    "\n",
    "# Membaca dataset dari file csv ke pandas DataFrame\n",
    "heartDataset = pd.read_csv('heart.csv', delimiter=',')\n",
    "\n",
    "# Mengubah kelas (kolom target) ke unique-integer jika belum berupa angka\n",
    "heartDataset['target'] = pd.factorize(heartDataset['target'])[0]\n",
    "\n",
    "# Menghapus kolom yang tidak relevan (misal ID jika ada)\n",
    "if 'Id' in heartDataset.columns:\n",
    "    heartDataset = heartDataset.drop(labels='Id', axis=1)\n",
    "\n",
    "# Mengubah DataFrame ke array numpy\n",
    "heartDataset = heartDataset.to_numpy()"
   ]
  },
  {
   "cell_type": "code",
   "execution_count": 9,
   "id": "52cc2e2e-5c92-4756-b3c4-a02edf396c8e",
   "metadata": {},
   "outputs": [],
   "source": [
    "# Membagi dataset, 80% untuk training dan 20% untuk testing\n",
    "dataTraining = np.concatenate((heartDataset[:int(len(heartDataset) * 0.8)],), axis=0)\n",
    "dataTesting = np.concatenate((heartDataset[int(len(heartDataset) * 0.8):],), axis=0)\n",
    "\n",
    "# Memecah dataset ke input dan label\n",
    "inputTraining = dataTraining[:, :-1]\n",
    "labelTraining = dataTraining[:, -1]\n",
    "inputTesting = dataTesting[:, :-1]\n",
    "labelTesting = dataTesting[:, -1]"
   ]
  },
  {
   "cell_type": "code",
   "execution_count": 13,
   "id": "f82bef75-6bd2-4dfb-bc95-2e0799c7bc5e",
   "metadata": {},
   "outputs": [
    {
     "name": "stdout",
     "output_type": "stream",
     "text": [
      "Label sebenarnya : [1. 1. 1. 1. 1. 1. 1. 1. 1. 1. 1. 1. 1. 1. 1. 1. 1. 1. 1. 1. 1. 1. 1. 1.\n",
      " 1. 1. 1. 1. 1. 1. 1. 1. 1. 1. 1. 1. 1. 1. 1. 1. 1. 1. 1. 1. 1. 1. 1. 1.\n",
      " 1. 1. 1. 1. 1. 1. 1. 1. 1. 1. 1. 1. 1.]\n",
      "Hasil prediksi : [0. 1. 1. 1. 1. 0. 0. 1. 1. 0. 1. 1. 0. 0. 1. 1. 0. 0. 1. 0. 1. 1. 1. 0.\n",
      " 0. 0. 0. 1. 1. 0. 1. 0. 1. 1. 1. 0. 0. 1. 0. 0. 0. 0. 1. 1. 0. 0. 1. 1.\n",
      " 0. 1. 0. 1. 0. 1. 0. 1. 0. 1. 1. 1. 0.]\n",
      "Prediksi benar: 32 data\n",
      "Prediksi salah: 29 data\n",
      "Akurasi: 52.459016393442624 %\n"
     ]
    }
   ],
   "source": [
    "# Mendefinisikan model Decision Tree Classifier\n",
    "model = tree.DecisionTreeClassifier()\n",
    "\n",
    "# Mentraining model\n",
    "model = model.fit(inputTraining, labelTraining)\n",
    "\n",
    "# Memprediksi input data testing\n",
    "hasilPrediksi = model.predict(inputTesting)\n",
    "print(\"Label sebenarnya :\", labelTesting)\n",
    "print(\"Hasil prediksi :\", hasilPrediksi)\n",
    "\n",
    "# Menghitung akurasi\n",
    "prediksiBenar = (hasilPrediksi == labelTesting).sum()\n",
    "prediksiSalah = (hasilPrediksi != labelTesting).sum()\n",
    "print(\"Prediksi benar:\", prediksiBenar, \"data\")\n",
    "print(\"Prediksi salah:\", prediksiSalah, \"data\")\n",
    "print(\"Akurasi:\", prediksiBenar / (prediksiBenar + prediksiSalah) * 100, \"%\")"
   ]
  },
  {
   "cell_type": "code",
   "execution_count": null,
   "id": "2578d09a-43ad-455e-97ba-b75ec0ab5f0c",
   "metadata": {},
   "outputs": [],
   "source": []
  }
 ],
 "metadata": {
  "kernelspec": {
   "display_name": "Python 3 (ipykernel)",
   "language": "python",
   "name": "python3"
  },
  "language_info": {
   "codemirror_mode": {
    "name": "ipython",
    "version": 3
   },
   "file_extension": ".py",
   "mimetype": "text/x-python",
   "name": "python",
   "nbconvert_exporter": "python",
   "pygments_lexer": "ipython3",
   "version": "3.12.4"
  }
 },
 "nbformat": 4,
 "nbformat_minor": 5
}
